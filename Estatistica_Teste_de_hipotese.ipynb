{
 "cells": [
  {
   "cell_type": "markdown",
   "id": "a46ac142",
   "metadata": {},
   "source": [
    "# Teste de Hipótese"
   ]
  },
  {
   "cell_type": "markdown",
   "id": "6e1b16eb",
   "metadata": {},
   "source": [
    "Definição: Uma hipóteses estatística é uma afirmação ou conjetura\n",
    "sobre o parâmetro, ou parâmetros, da distribuição de probabilidades\n",
    "de uma característica, X, da população ou de uma v.a.\n",
    "\n",
    "\n",
    "Definição: Um teste de uma hipóteses estatística é o procedimento\n",
    "ou regra de decisão que nos possibilita decidir por $Ho$ ou $Ha$, com\n",
    "base a informação contida na amostra.\n",
    "\n",
    "Ex: \n",
    "Suponha que a equipe técnica da indústria tenha decidido retirar uma amostra\n",
    "aleatória de tamanho n=16, do lote recebido, medir a resistência de cada pino\n",
    "e calcular a resistência média X.\n",
    "\n",
    "<img src=\"imagens_estatistica\\hipotese.jpg\">\n",
    "\n",
    "Para quais valores de X a equipe técnica deve rejeitar $Ho$ e\n",
    "portanto não aceitar o lote?\n",
    "\n",
    "\n"
   ]
  }
 ],
 "metadata": {
  "kernelspec": {
   "display_name": "Python 3",
   "language": "python",
   "name": "python3"
  },
  "language_info": {
   "codemirror_mode": {
    "name": "ipython",
    "version": 3
   },
   "file_extension": ".py",
   "mimetype": "text/x-python",
   "name": "python",
   "nbconvert_exporter": "python",
   "pygments_lexer": "ipython3",
   "version": "3.7.0"
  }
 },
 "nbformat": 4,
 "nbformat_minor": 5
}
