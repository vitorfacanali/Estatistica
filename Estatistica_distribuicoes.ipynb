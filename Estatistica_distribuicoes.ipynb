{
 "cells": [
  {
   "cell_type": "markdown",
   "id": "339b14cd",
   "metadata": {},
   "source": [
    "# Estatística"
   ]
  },
  {
   "cell_type": "markdown",
   "id": "1480faca",
   "metadata": {},
   "source": [
    "## Distribuições"
   ]
  },
  {
   "cell_type": "markdown",
   "id": "23af8c1a",
   "metadata": {},
   "source": [
    "### Normal/Gaussiana"
   ]
  },
  {
   "cell_type": "markdown",
   "id": "63df5e5f",
   "metadata": {},
   "source": [
    "A área abaixo da linha mostra a probabilidade de ocorrência de cada valor do eixo X. Assim, a soma da área total é igual a 1, ou 100%.\n",
    "\n",
    "A distribuição normal possui algumas propriedades:\n",
    "- Ela é simétrica em relação à origem;\n",
    "- Média = moda = mediana.\n",
    "\n",
    "Ou seja, exatamente metade das observações se encontram à direita e metade se encontram à esquerda da média. Valores à direita são menores que a média e à esquerda são maiores. O valor que mais se repete entre as observações é a média, dado que é igual à moda.\n",
    "\n",
    "Outro ponto:\n",
    "- 1 desvio da média abrange 68,26% dos dados;\n",
    "- 2 desvios da média abrangem 95,44% dos dados;\n",
    "- 3 desvios da média abrangem 99,74% dos dados.\n",
    "\n",
    "<img src=\"imagens_estatistica/normal.jpg\">\n",
    "\n",
    "\n",
    "Para calcular a probabilidade de um valor em uma distribuição normal, é necessário normalizar os dados utilizando a Zscore.\n",
    "\n",
    "Ou seja, supondo que temos uma uma amostra em que a média é 105, o desvio padrão é 10, qual a probabilidade de tirarmos uma valor entre 90 e 125?\n",
    "\n",
    "$$\n",
    "Zscore_1 = \\frac{(90 - 105)}{10} = -1,5\n",
    "$$\n",
    "\n",
    "\n",
    "$$\n",
    "Zscore_2 = \\frac{(125 - 105)}{10} = 2\n",
    "$$\n",
    "\n",
    "\n",
    "ou seja, é a mesma da probabilidade entre 2 e 1,5 em uma distribuição normal utilizando a tabela de Z score\n",
    "\n",
    "EX:\n",
    "\n",
    "A Tabela Z mostra os valores encontrados na distribuição normal padronizada para diferentes níveis de probabilidade. Representa a área abaixo da curva, partindo da média até Z.\n",
    "\n",
    "\n",
    "<img src=\"imagens_estatistica/tabelaZ.jpg\">\n",
    "\n",
    "Questão: Qual é a probabilidade de ocorrência de um valor inferior a 1,58 em uma distribuição normal padrão (média 0 e desvio-padrão 1)?\n",
    "\n",
    "\n",
    "Para calcular essa probabilidade, basta olhar na Tabela Z. Os dois primeiros dígitos (1,5) devem ser buscados na primeira coluna dessa tabela, e o terceiro dígito (8) na primeira fila, conforme indicado pelas setas.\n",
    "\n",
    "\n",
    "<img src=\"imagens_estatistica/tabelaZ2.jpg\">\n",
    "\n",
    "O valor encontrado na tabela é de 0,4429 ou 44,29%. Esta é a probabilidade de encontrarmos um valor entre 0 e 1,58. Como queremos saber a probabilidade de encontrar um valor menor que 1,58, devemos usar o fato que a distribuição normal é simétrica e, portanto, cada lado possui 50% de probabilidade de ocorrência. Assim, dado que a probabilidade de ocorrência de um valor à esquerda da média é 0,5 ou 50%, e a probabilidade à direita é 44,29%, a probabilidade de encontrarmos um valor inferior a 1,58 é a soma das probabilidades:\n",
    "\n",
    "$$\n",
    "P = 0,5 + 0,4429 = 0,9429 ou 94,29\n",
    "$$"
   ]
  },
  {
   "cell_type": "markdown",
   "id": "b71bb2e7",
   "metadata": {},
   "source": [
    "### Bernoulli"
   ]
  },
  {
   "cell_type": "markdown",
   "id": "9e5a4aec",
   "metadata": {},
   "source": [
    "\n",
    "<img src=\"imagens_estatistica/bernoulli.jpg\">\n",
    "\n",
    "A distribuição de Bernoulli basicamente analisa a probabilidade de sucesso e de fracasso de um valor dentro de um conjunto de possibilidades, no qual:\n",
    "\n",
    "$$\n",
    "P = Sucesso = \\frac{nPositivos}{N}\n",
    "$$\n",
    "\n",
    "$$\n",
    "Q = Fracasso = 1 - P\n",
    "$$\n",
    "\n",
    "\n",
    "Por sua vez, a média é exatamente a probabilidade de sucesso e a variância é a probabilidade de sucesso vezes a probabilidade de fracasso. Ou seja:\n",
    "\n",
    "\n",
    "$$\n",
    "Média = P = Sucesso\n",
    "$$\n",
    "\n",
    "$$\n",
    "Variância = P*Q\n",
    "$$\n",
    "\n",
    "\n",
    "Ex:\n",
    "\n",
    "Em um conjunto de 550 amostras, 283 possuem valores positivos. Qual a probabilidade de tirarmos um valor positivo? Qual a média? Qual a variância?\n",
    "\n",
    "$$\n",
    "P = Média = \\frac{283}{550} = 51\\%\n",
    "$$\n",
    "\n",
    "$$\n",
    "Q = 1 - 0,51 = 0,49\n",
    "$$\n",
    "\n",
    "$$\n",
    "Variância = 0,51*0,49 = 0,249 \n",
    "$$\n",
    "\n"
   ]
  },
  {
   "cell_type": "markdown",
   "id": "ad2c9f6b",
   "metadata": {},
   "source": [
    "### Binominal"
   ]
  },
  {
   "cell_type": "markdown",
   "id": "71ddae45",
   "metadata": {},
   "source": [
    "Considere um experimento realizado $n$ vezes, sob as mesmas condições, com as seguintes características no qual cada repetição do experimento produz um de dois resultados possíveis, sendo eles sucesso (S) ou fracasso (F).\n",
    "\n",
    "A probabilidade de sucesso, $P(S)=p$, é a mesma em cada repetição do experimento. (Note que $Q = 1 - P$, como de Bernoulli).\n",
    "Os ensaios são independentes e o resultado de um ensaio não interfere no resultado do outro.\n",
    "\n",
    "A probabilidade de tirar $x$ sucessos em $n$ ensaios é dada por:\n",
    "\n",
    "<img src=\"imagens_estatistica/binomial.png\">\n",
    "\n",
    "Ex:\n",
    "\n",
    "Uma prova consta de 10 perguntas com 5 alternativas cada. Qual a probabilidade de um aluno acertar 6 questões no chute?\n",
    "\n",
    "$$\n",
    "P(6) = \\frac{10!}{6! 4!} * (\\frac{1}{5})^6 * (\\frac{4}{5})^4\n",
    "$$\n",
    "\n",
    "$$\n",
    "P = 0,549\\%\n",
    "$$"
   ]
  },
  {
   "cell_type": "markdown",
   "id": "762f06f5",
   "metadata": {},
   "source": [
    "### Uniforme"
   ]
  },
  {
   "cell_type": "markdown",
   "id": "dd2f974f",
   "metadata": {},
   "source": [
    "Como o própio nome já diz, a probabilidade de vc retirar um número de um conjunto de dados igualmente espaçado é sempre igual, ou seja:\n",
    "\n",
    "Ex\n",
    "\n",
    "Supoha que um onibus sempre passa entre 7h e 7:30, qual a probabilidade de passar as 7:24?\n",
    "\n",
    "$$\n",
    "P = \\frac{1}{nMin} = \\frac{1}{30}\n",
    "$$\n",
    "\n",
    "E de passar depois das 7:24?\n",
    "\n",
    "$$\n",
    "P = \\frac{6}{30}\n",
    "$$\n",
    "\n",
    "\n",
    "ou seja\n",
    "\n",
    "$$\n",
    "0,\\: se\\:\\:   x < 0\n",
    "$$\n",
    "$$\n",
    "\\frac{1}{30},\\: se\\:\\:   0 < x <= 30\n",
    "$$\n",
    "$$\n",
    "0,\\:  se\\:\\:   x > 30\n",
    "$$"
   ]
  },
  {
   "cell_type": "markdown",
   "id": "bc355f76",
   "metadata": {},
   "source": [
    "### Poison"
   ]
  },
  {
   "cell_type": "markdown",
   "id": "b93624f6",
   "metadata": {},
   "source": [
    "A distribuição de Poisson é uma distribuição de probabilidade de variável aleatória discreta que expressa a probabilidade de uma série de eventos ocorrer num certo período de tempo se estes eventos ocorrem independentemente de quando ocorreu o último evento.\n",
    "\n",
    "Em resumo temos:\n",
    "\n",
    "$$\n",
    "P(x) = \\frac{\\lambda^x*e^{-\\lambda}}{x!}\n",
    "$$\n",
    "\n",
    "Ex:\n",
    "\n",
    "Uma empresa recebe 5 e-mails em 10 minutos. Qual a probabilidade dessa empresa receber 8 e-mails nesses mesmos 10 minutos?\n",
    "\n",
    "$$\n",
    "P(8) = \\frac{5^8*e^{-5}}{8!}\n",
    "$$\n",
    "\n",
    "$$\n",
    "P(8) = 6,5\\%\n",
    "$$"
   ]
  },
  {
   "cell_type": "markdown",
   "id": "57579a05",
   "metadata": {},
   "source": [
    "### Geométrica"
   ]
  },
  {
   "cell_type": "markdown",
   "id": "cdc5e290",
   "metadata": {},
   "source": [
    "Em resumo, na distribuição geométrica, as tentativas são repetidas até que ocorra o sucesso. Ou seja, tirar cupons de uma urna até se obter o sucesso. \n",
    "\n",
    "$$\n",
    "P(x) = P*Q^{x-1} \n",
    "$$\n",
    "\n",
    "$$\n",
    "Média = \\frac{1}{P}\n",
    "$$\n",
    "\n",
    "$$\n",
    "Variancia = \\frac{1-P}{P^2}\n",
    "$$\n",
    "\n",
    "\n",
    "Ex:\n",
    "\n",
    "30% dos fregueses, ao entrarem em uma loja, compram algum produto. Qual a probabilidade do 4º freques comprar?\n",
    "\n",
    "$$\n",
    "P(4) = 0,3*0,7^{4-1} \n",
    "$$\n",
    "\n",
    "$$\n",
    "P(4) = 10,29\\% \n",
    "$$\n",
    "\n",
    "E do 2º **ou** do 3º\n",
    "\n",
    "$$\n",
    "P(x) = P(2) + P(3) \n",
    "$$\n",
    "\n",
    "$$\n",
    "P(x) = 0,3*0,7^{2-1}\\:\\: +  \\:\\:0,3*0,7^{3-1}  \n",
    "$$\n",
    "\n",
    "$$\n",
    "P = 35,7\\%\n",
    "$$\n"
   ]
  }
 ],
 "metadata": {
  "kernelspec": {
   "display_name": "Python 3",
   "language": "python",
   "name": "python3"
  },
  "language_info": {
   "codemirror_mode": {
    "name": "ipython",
    "version": 3
   },
   "file_extension": ".py",
   "mimetype": "text/x-python",
   "name": "python",
   "nbconvert_exporter": "python",
   "pygments_lexer": "ipython3",
   "version": "3.7.0"
  }
 },
 "nbformat": 4,
 "nbformat_minor": 5
}
