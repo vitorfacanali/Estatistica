{
 "cells": [
  {
   "cell_type": "markdown",
   "metadata": {},
   "source": [
    "# Estatística"
   ]
  },
  {
   "cell_type": "markdown",
   "metadata": {},
   "source": [
    "## Descritiva"
   ]
  },
  {
   "cell_type": "markdown",
   "metadata": {},
   "source": [
    "**Moda:** é o valor que mais aparce em um conjunto de dados\n",
    "\n",
    "**Mediana:** é o valor do meio em uma amostra ordenada.Se a quantidade de valores for um número par, devemos fazer uma média aritmética dos dois números centrais.\n",
    "\n",
    "**Quartil:** é 1/4 da amostra ordenada\n",
    "\n",
    "**Decil:** é 1/10 da amostra ordenada\n",
    "\n",
    "**Percentil:** é a mostra ordenada divida por 100. Ou seja 25º percentil é o 1º quartil\n",
    "\n",
    "**Intervalo de amostra:** é o maior e o menor número presente na amostra\n",
    "\n",
    "**Variância:** é a média das ditâncias quadraticas entre cada ponto e a méda da amostra\n",
    "\n",
    "$$\n",
    "variancia = \\frac{(x1 - X)² + (x2 - X)² + (xn - X)²}{n}\n",
    "$$\n",
    "\n",
    "\n",
    "**Desvio Padrão:** é a raiz quadrada da variância\n",
    "\n",
    "**Z score:** é a quantidade de desvios padrões que um ponto está da média\n",
    "\n",
    "$$\n",
    "Zscore = \\frac{(x - X)}{desv_padrao}\n",
    "$$\n",
    "\n",
    "\n",
    "**Assimetria:** é o quão não simetrico é o conjunto de amostras. Ou seja, uma distribuição assimétrica tem associada a si uma curva de frequências unimodal que apresenta, a partir do seu ponto mais alto, uma \"cauda\" mais longa para a direita (**assimetria positiva**) ou para a esquerda (**assimetria negativa**).\n",
    "\n",
    "\n",
    "<img src=\"imagens_estatistica\\assimetria.jpg\">\n",
    "\n",
    "**Curtose:** é o achatamento da curva\n",
    "\n",
    "\n",
    "<img src=\"imagens_estatistica\\curtose.jpg\">\n",
    "\n",
    "\n",
    "**Média Harmonica**: é a média usada apenas em casos com grandezas inversamente proporcionais (Velocidade/distância).\n",
    "\n",
    "$$\n",
    "Mh = \\frac{n}{\\frac{1}{x1} + \\frac{1}{x2} + \\frac{1}{xn}}\n",
    "$$\n",
    "\n",
    "Ex: em um trajeto, um carro percorreu 60km, sendo que nos primeiros 20km andou à 2 km/h, nos próximos 20km andou à 5 km/h e os últimos 20km à 7 km/h. Qual a velocidade média do carro?\n",
    "\n",
    "n = {2, 5, 7}\n",
    "\n",
    "$$\n",
    "Mh = \\frac{3}{\\frac{1}{2} + \\frac{1}{5} + \\frac{1}{7}}\n",
    "$$\n",
    "\n",
    "$$\n",
    "Mh = 3,56 km/h\n",
    "$$"
   ]
  },
  {
   "cell_type": "markdown",
   "metadata": {},
   "source": [
    "Mediana em distibuições agrupadas precisa calcular a frequência acumulada:\n",
    "\n",
    "$$\n",
    "mediana = Li + (\\frac{\\frac{FA}{2} + FA anterior}{Fi}) * h\n",
    "$$\n",
    "\n",
    "\n",
    "Li = Limite inferior do intervalo\n",
    "H = Amplitude (6-4 = 2)\n",
    "FA = Frequência acumulada\n",
    "\n",
    "Ex:\n",
    "Amostra \n",
    "\n",
    "intervalo | Fi | Frequencia Acumulada |\n",
    ":----|:----:|:----:\n",
    "0 - 2 | 5 | 5 |\n",
    "2 - 4\t| 2 | 7 |\n",
    "4 - 6\t| 4 | 11 |\n",
    "6 - 8 | 2 | 13 |\n",
    "8 - 10 | 7 | 20 |\n",
    "\n",
    "A mediana é dada por\n",
    "\n",
    "$$\n",
    "Md = 4 + (\\frac{(10 - 7)}{4}) * 2\n",
    "$$\n",
    "$$\n",
    "Md = 5,5\n",
    "$$"
   ]
  }
 ],
 "metadata": {
  "kernelspec": {
   "display_name": "Python 3",
   "language": "python",
   "name": "python3"
  },
  "language_info": {
   "codemirror_mode": {
    "name": "ipython",
    "version": 3
   },
   "file_extension": ".py",
   "mimetype": "text/x-python",
   "name": "python",
   "nbconvert_exporter": "python",
   "pygments_lexer": "ipython3",
   "version": "3.7.0"
  }
 },
 "nbformat": 4,
 "nbformat_minor": 2
}
